{
 "cells": [
  {
   "cell_type": "code",
   "execution_count": 104,
   "metadata": {},
   "outputs": [],
   "source": [
    "import pandas as pd\n",
    "import matplotlib.pyplot as plt\n",
    "%matplotlib inline"
   ]
  },
  {
   "cell_type": "code",
   "execution_count": 54,
   "metadata": {},
   "outputs": [],
   "source": [
    "df = pd.read_csv('SampleEquityData_OMX/Trades/9302.csv', parse_dates=[['Date', 'Time']], index_col='Date_Time')"
   ]
  },
  {
   "cell_type": "code",
   "execution_count": 33,
   "metadata": {},
   "outputs": [
    {
     "data": {
      "text/html": [
       "<div>\n",
       "<style scoped>\n",
       "    .dataframe tbody tr th:only-of-type {\n",
       "        vertical-align: middle;\n",
       "    }\n",
       "\n",
       "    .dataframe tbody tr th {\n",
       "        vertical-align: top;\n",
       "    }\n",
       "\n",
       "    .dataframe thead th {\n",
       "        text-align: right;\n",
       "    }\n",
       "</style>\n",
       "<table border=\"1\" class=\"dataframe\">\n",
       "  <thead>\n",
       "    <tr style=\"text-align: right;\">\n",
       "      <th></th>\n",
       "      <th>Symbol</th>\n",
       "      <th>Price</th>\n",
       "      <th>Volume</th>\n",
       "      <th>Sales Condition</th>\n",
       "      <th>Exclude Record Flag</th>\n",
       "      <th>Filtered Price</th>\n",
       "      <th>Seller</th>\n",
       "      <th>Buyer</th>\n",
       "    </tr>\n",
       "    <tr>\n",
       "      <th>Date_Time</th>\n",
       "      <th></th>\n",
       "      <th></th>\n",
       "      <th></th>\n",
       "      <th></th>\n",
       "      <th></th>\n",
       "      <th></th>\n",
       "      <th></th>\n",
       "      <th></th>\n",
       "    </tr>\n",
       "  </thead>\n",
       "  <tbody>\n",
       "    <tr>\n",
       "      <th>2014-03-03 09:00:02.179</th>\n",
       "      <td>PREC</td>\n",
       "      <td>1.53</td>\n",
       "      <td>500</td>\n",
       "      <td>1</td>\n",
       "      <td>NaN</td>\n",
       "      <td>NaN</td>\n",
       "      <td>AVA</td>\n",
       "      <td>ENS</td>\n",
       "    </tr>\n",
       "    <tr>\n",
       "      <th>2014-03-03 09:00:02.179</th>\n",
       "      <td>PREC</td>\n",
       "      <td>1.53</td>\n",
       "      <td>1000</td>\n",
       "      <td>1</td>\n",
       "      <td>NaN</td>\n",
       "      <td>NaN</td>\n",
       "      <td>AVA</td>\n",
       "      <td>SWB</td>\n",
       "    </tr>\n",
       "    <tr>\n",
       "      <th>2014-03-03 09:00:02.179</th>\n",
       "      <td>PREC</td>\n",
       "      <td>1.53</td>\n",
       "      <td>1500</td>\n",
       "      <td>1</td>\n",
       "      <td>NaN</td>\n",
       "      <td>NaN</td>\n",
       "      <td>AVA</td>\n",
       "      <td>NDS</td>\n",
       "    </tr>\n",
       "    <tr>\n",
       "      <th>2014-03-03 09:00:02.179</th>\n",
       "      <td>PREC</td>\n",
       "      <td>1.53</td>\n",
       "      <td>3500</td>\n",
       "      <td>1</td>\n",
       "      <td>NaN</td>\n",
       "      <td>NaN</td>\n",
       "      <td>AVA</td>\n",
       "      <td>NDS</td>\n",
       "    </tr>\n",
       "    <tr>\n",
       "      <th>2014-03-03 09:00:02.179</th>\n",
       "      <td>PREC</td>\n",
       "      <td>1.53</td>\n",
       "      <td>1000</td>\n",
       "      <td>1</td>\n",
       "      <td>NaN</td>\n",
       "      <td>NaN</td>\n",
       "      <td>AVA</td>\n",
       "      <td>NDS</td>\n",
       "    </tr>\n",
       "  </tbody>\n",
       "</table>\n",
       "</div>"
      ],
      "text/plain": [
       "                        Symbol  Price  Volume  Sales Condition  \\\n",
       "Date_Time                                                        \n",
       "2014-03-03 09:00:02.179   PREC   1.53     500                1   \n",
       "2014-03-03 09:00:02.179   PREC   1.53    1000                1   \n",
       "2014-03-03 09:00:02.179   PREC   1.53    1500                1   \n",
       "2014-03-03 09:00:02.179   PREC   1.53    3500                1   \n",
       "2014-03-03 09:00:02.179   PREC   1.53    1000                1   \n",
       "\n",
       "                         Exclude Record Flag  Filtered Price Seller Buyer  \n",
       "Date_Time                                                                  \n",
       "2014-03-03 09:00:02.179                  NaN             NaN    AVA   ENS  \n",
       "2014-03-03 09:00:02.179                  NaN             NaN    AVA   SWB  \n",
       "2014-03-03 09:00:02.179                  NaN             NaN    AVA   NDS  \n",
       "2014-03-03 09:00:02.179                  NaN             NaN    AVA   NDS  \n",
       "2014-03-03 09:00:02.179                  NaN             NaN    AVA   NDS  "
      ]
     },
     "execution_count": 33,
     "metadata": {},
     "output_type": "execute_result"
    }
   ],
   "source": [
    "df.head()"
   ]
  },
  {
   "cell_type": "code",
   "execution_count": 46,
   "metadata": {},
   "outputs": [
    {
     "data": {
      "text/plain": [
       "array([<matplotlib.axes._subplots.AxesSubplot object at 0x11627d3c8>,\n",
       "       <matplotlib.axes._subplots.AxesSubplot object at 0x116f24eb8>],\n",
       "      dtype=object)"
      ]
     },
     "execution_count": 46,
     "metadata": {},
     "output_type": "execute_result"
    },
    {
     "data": {
      "image/png": "[encoded data removed]",
      "text/plain": [
       "<Figure size 432x288 with 2 Axes>"
      ]
     },
     "metadata": {},
     "output_type": "display_data"
    }
   ],
   "source": [
    "df[['Volume', 'Price']].first('D').plot(subplots=True)"
   ]
  },
  {
   "cell_type": "code",
   "execution_count": 76,
   "metadata": {},
   "outputs": [],
   "source": [
    "# I could sample as a function of free-floating market capitalization\n",
    "# Right now im just using 20000\n",
    "o = 0\n",
    "h = 0\n",
    "l = 999999\n",
    "c = 0\n",
    "v = 0\n",
    "turnover = 0\n",
    "sample_amount = 40000\n",
    "X = pd.DataFrame(columns=['open','high','low','close','volume','turnover'], index=pd.to_datetime([]))\n",
    "for day_index, day in df.groupby(pd.Grouper(freq='D')):\n",
    "    for index, row in day.iterrows():\n",
    "        o = row['Price'] if o == 0 else o # if this is the first bar this is the open\n",
    "        l = row['Price'] if row['Price'] < l else l\n",
    "        h = row['Price'] if row['Price'] > h else h\n",
    "        v += row['Volume']\n",
    "        turnover += row['Volume'] * row['Price']\n",
    "        if turnover >= sample_amount:\n",
    "            c = row['Price'] # This is the last bar\n",
    "            X.loc[index] = pd.Series([o, h, l, c, v, turnover], ['open', 'high', 'low', 'close', 'volume', 'turnover'])\n",
    "            l = 99999\n",
    "            o = h = c = v = turnover = 0"
   ]
  },
  {
   "cell_type": "code",
   "execution_count": 84,
   "metadata": {},
   "outputs": [],
   "source": [
    "def getTEvents(gRaw,h):\n",
    "    # Todo i should use iterrows instead\n",
    "    # How to plot events in chart\n",
    "    # TODO could get the tradable tick size and have h as number of tics\n",
    "    tEvents, sPos, sNeg = [], 0, 0\n",
    "    diff = gRaw.diff()\n",
    "    for i in diff.index[1:]:\n",
    "        sPos, sNeg = max(0, sPos+diff.loc[i]), min(0,sNeg+diff.loc[i])\n",
    "        if sNeg < -h:\n",
    "            sNeg = 0; tEvents.append(i)\n",
    "        elif sPos > h:\n",
    "            sPos =0; tEvents.append(i)\n",
    "    return pd.DatetimeIndex(tEvents)"
   ]
  },
  {
   "cell_type": "code",
   "execution_count": 123,
   "metadata": {},
   "outputs": [
    {
     "data": {
      "image/png": "[encoded data removed]",
      "text/plain": [
       "<Figure size 432x288 with 1 Axes>"
      ]
     },
     "metadata": {},
     "output_type": "display_data"
    }
   ],
   "source": [
    "events = getTEvents(X['close'], 0.03)\n",
    "plt.plot(X.index, X['close'])\n",
    "plt.plot(events, X['close'][events], linestyle='', marker='o', markerfacecolor='r');"
   ]
  },
  {
   "cell_type": "code",
   "execution_count": 118,
   "metadata": {},
   "outputs": [],
   "source": [
    "import matplotlib"
   ]
  },
  {
   "cell_type": "markdown",
   "metadata": {},
   "source": [
    "I could sample as a function of free-floating market capitalization\n",
    "\n",
    "Lopez de Prado, Marcos. Advances in Financial Machine Learning (Kindle Location 1420). Wiley. Kindle Edition. "
   ]
  }
 ],
 "metadata": {
  "kernelspec": {
   "display_name": "Python 3",
   "language": "python",
   "name": "python3"
  },
  "language_info": {
   "codemirror_mode": {
    "name": "ipython",
    "version": 3
   },
   "file_extension": ".py",
   "mimetype": "text/x-python",
   "name": "python",
   "nbconvert_exporter": "python",
   "pygments_lexer": "ipython3",
   "version": "3.6.4"
  }
 },
 "nbformat": 4,
 "nbformat_minor": 2
}
